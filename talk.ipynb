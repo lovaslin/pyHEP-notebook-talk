{
 "cells": [
  {
   "attachments": {},
   "cell_type": "markdown",
   "metadata": {},
   "source": [
    "# pyBumpHunter : A model agnostic bump hunting tool in python\n",
    "\n",
    "**presenter : Louis VASLIN  -  Université Clermont Auvergne (FR)**\n",
    "\n",
    "![pyBH_logo](img/pyBH_logo.png)\n",
    "\n",
    "\n",
    "[Link to github](https://github.com/scikit-hep/pyBumpHunter)  \n",
    "[Link to PyPI](https://pypi.org/project/pyBumpHunter/)"
   ]
  },
  {
   "cell_type": "code",
   "execution_count": null,
   "metadata": {},
   "outputs": [],
   "source": [
    "import numpy as np\n",
    "import pyBumpHunter as BH"
   ]
  },
  {
   "cell_type": "markdown",
   "metadata": {},
   "source": [
    "## The BumpHunter algorithm\n",
    "\n",
    "BumpHunter is a usefull algorithm used in HEP community that allows to look for a **excess** (or deficit) in a **data** distribution w.r.t. a **reference background**.\n",
    "\n",
    "It will compute the **local** and **global p-value** of the most significant **localized deviation** (bump) in the data.\n",
    "\n",
    "The global p-value is computed by **generating toys** from the reference and scaning them like real data.  \n",
    "The global p-value is then *the p-value of the local p-values*.\n",
    "\n",
    "### Why pyBumpHunter ?\n",
    "\n",
    "Public implementation based on pure python (numpy/scipy).  \n",
    "Doesn't depend on the ROOT software.  \n",
    "Recently integrated to Scikit-HEP.  \n",
    "Still under active development."
   ]
  },
  {
   "cell_type": "markdown",
   "metadata": {},
   "source": [
    "## 1D scan\n",
    "\n",
    "The basic scan that compare a data distribution to a refference background.  \n",
    "It will give the position and width of the bump, as well as its local and global p-value.  \n",
    "Also give a *rought* evaluation of the signal content of the bump (data - ref)."
   ]
  },
  {
   "cell_type": "code",
   "execution_count": 1,
   "metadata": {},
   "outputs": [],
   "source": [
    "# Generating some background and data\n",
    "\n",
    "# Create a BumpHunter1D instance\n",
    "\n",
    "# Call the scan method\n",
    "\n",
    "# Display results\n"
   ]
  },
  {
   "cell_type": "markdown",
   "metadata": {},
   "source": [
    "## 2D scan\n",
    "\n",
    "This is the extension of the BumpHunter algorithm to 2D distributions.  \n",
    "Works the same way as in 1D."
   ]
  },
  {
   "cell_type": "code",
   "execution_count": 2,
   "metadata": {},
   "outputs": [],
   "source": [
    "# Generate some background and data\n",
    "\n",
    "# Create a BumpHunter2D instance\n",
    "\n",
    "# Call the scan method\n",
    "\n",
    "# Display results\n"
   ]
  },
  {
   "cell_type": "markdown",
   "metadata": {},
   "source": [
    "## Signal injection\n",
    "\n",
    "Add the possibility to perform signal injection test using the BumpHunter algorithm to evaluate the sensibility to a given signal model.  \n",
    "The injection is perform based on the reference background distribution and a signal distribution.  \n",
    "The injections stops when the required sensitivity is reached (based on global significance)."
   ]
  },
  {
   "cell_type": "code",
   "execution_count": 3,
   "metadata": {},
   "outputs": [],
   "source": [
    "# Generate somme background ad signal\n",
    "\n",
    "# Create a BumpHunter1D instance\n",
    "\n",
    "# Call the injection method\n",
    "\n",
    "# Display results"
   ]
  },
  {
   "cell_type": "markdown",
   "metadata": {},
   "source": [
    "## Side-band normalization\n",
    "\n",
    "This option allows to correct the number of background events in the calculation of the local p-value.  \n",
    "The normalization scale is computed as the data/background ratio outside of the bump window.  \n",
    "![rescale](img/rescale.png) \n",
    "This normalization is done automatically durring the scan.  \n",
    "This metohd can also penalize the p-value when there is a discrepency between data and background ouside of the bump window."
   ]
  },
  {
   "cell_type": "code",
   "execution_count": 4,
   "metadata": {},
   "outputs": [],
   "source": [
    "# Generating some background and data\n",
    "\n",
    "# Create a BumpHunter1D instance\n",
    "\n",
    "# Call the scan method with side-band normalization on\n",
    "\n",
    "# Display results"
   ]
  },
  {
   "cell_type": "markdown",
   "metadata": {},
   "source": [
    "## Multi-channel combination (under development)\n",
    "\n",
    "This option allows to combine multiple channels in order to obtain a combined global p-value and significance.  \n",
    "There are two combination method :\n",
    "\n",
    "* **multiply**  \n",
    "    Applyable only if all channels have the same binning.  \n",
    "    For each position and width, the combined local p-value is defined as the product of the local p-value per channel.  \n",
    "    The bump window is then defined as usual.\n",
    "\n",
    "* **exclude**  \n",
    "    Applyable even if all channels have different binning.  \n",
    "    The combined bump window is defined as the intersection of the bump windows of each channel.  \n",
    "    If there is no intersection, then the local p-value is set to 1.  \n",
    "    Otherwise, the combined local p-value is the product of the local p-value per channel.\n",
    "\n",
    "### Planned syntax\n",
    "\n",
    "To define multiple channels with different bining, we pass a *list of bining* to the `bins` option.\n",
    "\n",
    "```python3\n",
    "bh = BH.BumpHunter1D()\n",
    "bh.bins=[40,50] # 40 bins for ch0 and 50 bins for ch1\n",
    "```\n",
    "\n",
    "To call a scan method in one of the two multi-channel modes, we pass a list of data and background distributions in argument.  \n",
    "The choice of the combination method is done with the `comb` argument.\n",
    "```python3\n",
    "bh.bump_scan(data, bkg, comb='exclude')\n",
    "```"
   ]
  },
  {
   "cell_type": "markdown",
   "metadata": {},
   "source": [
    "## Plan and future development\n",
    "\n",
    "### For the next release\n",
    "\n",
    "* Adding multi-channel combination\n",
    "\n",
    "### Major additions planned\n",
    "\n",
    "* API refactoring, with a DataHandler class that manage the histograming part separatly\n",
    "\n",
    "* Add possibility to treat systematic uncertainties\n",
    "\n",
    "* Other features that might be interesting (***your* ideas are welcome!**)"
   ]
  },
  {
   "cell_type": "code",
   "execution_count": null,
   "metadata": {},
   "outputs": [],
   "source": []
  }
 ],
 "metadata": {
  "kernelspec": {
   "display_name": "Python 3",
   "language": "python",
   "name": "python3"
  },
  "language_info": {
   "codemirror_mode": {
    "name": "ipython",
    "version": 3
   },
   "file_extension": ".py",
   "mimetype": "text/x-python",
   "name": "python",
   "nbconvert_exporter": "python",
   "pygments_lexer": "ipython3",
   "version": "3.6.9"
  }
 },
 "nbformat": 4,
 "nbformat_minor": 2
}
