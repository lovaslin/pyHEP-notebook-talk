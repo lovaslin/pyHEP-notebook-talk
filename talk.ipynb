{
 "cells": [
  {
   "cell_type": "markdown",
   "metadata": {},
   "source": [
    "# pyBumpHunter : A model agnostic bump hunting tool in python\n",
    "\n",
    "**presenter : Louis VASLIN  -  Université Clermont Auvergne (FR)**\n",
    "\n",
    "![pyBH_logo](img/pyBH_logo.png)\n",
    "\n",
    "\n",
    "[Link to github](https://github.com/scikit-hep/pyBumpHunter)  \n",
    "[Link to PyPI](https://pypi.org/project/pyBumpHunter/)"
   ]
  },
  {
   "cell_type": "code",
   "execution_count": null,
   "metadata": {},
   "outputs": [],
   "source": [
    "import numpy as np\n",
    "import pyBumpHunter as BH\n",
    "import matplotlib.pyplot as plt\n",
    "from matplotlib import colors as mcl"
   ]
  },
  {
   "cell_type": "markdown",
   "metadata": {},
   "source": [
    "## The BumpHunter algorithm\n",
    "\n",
    "BumpHunter is a usefull algorithm used in HEP community that allows to look for a **excess** (or deficit) in a **data** distribution w.r.t. a **reference background**.\n",
    "\n",
    "It will compute the **local** and **global p-value** of the most significant **localized deviation** (bump) in the data.\n",
    "\n",
    "The global p-value is computed by **generating toys** from the reference and scaning them like real data.  \n",
    "The global p-value is then *the p-value of the local p-values*.\n",
    "\n",
    "### Why pyBumpHunter ?\n",
    "\n",
    "Public implementation based on pure python (numpy/scipy).  \n",
    "Doesn't depend on the ROOT software.  \n",
    "Recently integrated to Scikit-HEP.  \n",
    "Still under active development."
   ]
  },
  {
   "cell_type": "markdown",
   "metadata": {},
   "source": [
    "## 1D scan\n",
    "\n",
    "The basic scan that compare a data distribution to a refference background.  \n",
    "It will give the position and width of the bump, as well as its local and global p-value.  \n",
    "Also give a *rought* evaluation of the signal content of the bump (data - ref)."
   ]
  },
  {
   "cell_type": "code",
   "execution_count": null,
   "metadata": {},
   "outputs": [],
   "source": [
    "# Generate some background and data\n",
    "np.random.seed(42)\n",
    "bkg = np.random.exponential(scale=8.0, size=500_000)\n",
    "data = np.random.exponential(scale=8.0, size=500_000)\n",
    "data = np.append(\n",
    "    data,\n",
    "    np.random.normal(loc=20, scale=3, size=1200)\n",
    ")\n",
    "rng = [0,70]\n",
    "\n",
    "# Make histograms\n",
    "bkg_hist, bins = np.histogram(bkg, bins=50, range=rng)\n",
    "data_hist, _ = np.histogram(data, bins=bins)\n",
    "\n",
    "# Plot the distributions\n",
    "F = plt.figure(figsize=(12,8))\n",
    "plt.title('Example distributions', size='xx-large')\n",
    "plt.hist(bkg, bins=bins, histtype='step', lw=2, label='bkg')\n",
    "plt.hist(data, bins=bins, histtype='step', lw=2, label='data')\n",
    "plt.legend(fontsize='x-large')\n",
    "plt.xticks(fontsize='x-large')\n",
    "plt.yticks(fontsize='x-large')\n",
    "plt.yscale('log')\n",
    "plt.show()"
   ]
  },
  {
   "cell_type": "code",
   "execution_count": null,
   "metadata": {
    "scrolled": false
   },
   "outputs": [],
   "source": [
    "# Create a BumpHunter1D instance\n",
    "bh1 = BH.BumpHunter1D(\n",
    "    width_min=2,\n",
    "    width_max=6,\n",
    "    width_step=1,\n",
    "    scan_step=1,\n",
    "    bins=bins,\n",
    "    rang=rng,\n",
    "    npe=10_000,\n",
    "    nworker=1,\n",
    "    seed=666\n",
    ")\n",
    "\n",
    "# Call the scan method\n",
    "# Here we give the data as non-histogramed distribution\n",
    "bh1.bump_scan(data, bkg)\n",
    "\n",
    "# Display results\n",
    "print('##.print_bump_info() call##')\n",
    "bh1.print_bump_info()\n",
    "print('##.print_bump_true() call##')\n",
    "bh1.print_bump_true(data, bkg)\n",
    "\n",
    "bh1.plot_bump(data, bkg)\n",
    "bh1.plot_tomography(data)\n",
    "bh1.plot_stat(show_Pval=True)"
   ]
  },
  {
   "cell_type": "markdown",
   "metadata": {},
   "source": [
    "* **NOTE : The following code will give the same results**\n",
    "```python\n",
    "# The data is given as histogramed distribution\n",
    "# In this case, we must specify `is_hist=True` in the argument\n",
    "bh1.bump_scan(data_hist, bkg_hist, is_hist=True)\n",
    "bh1.print_bump_info()\n",
    "bh1.print_bump_true(data_hist, bkg_hist, is_hist)\n",
    "bh1.plot_bump(data_hist, bkg_hist, is_hist=True)\n",
    "bh1.plot_tomography(data_hist, bkg_hist, is_hist=True)\n",
    "bh1.plot_stat(show_Pval=True)\n",
    "```"
   ]
  },
  {
   "cell_type": "markdown",
   "metadata": {},
   "source": [
    "## Access to results\n",
    "\n",
    "The results of the previous scans is stored in the BumpHunter1D object.  \n",
    "You can easily access them to make your own tests and/or plot routines."
   ]
  },
  {
   "cell_type": "code",
   "execution_count": null,
   "metadata": {},
   "outputs": [],
   "source": [
    "print(f'local p-value of the data : {bh1.min_Pval_ar[0]:.5g}')\n",
    "print(f'width of the bump (in number of bins) : {bh1.min_width_ar[0]}')\n",
    "print(f'global significance : {bh1.significance:.5f}')"
   ]
  },
  {
   "cell_type": "markdown",
   "metadata": {},
   "source": [
    "## Signal injection\n",
    "\n",
    "Add the possibility to perform signal injection test using the BumpHunter algorithm to evaluate the sensibility to a given signal model.  \n",
    "The injection is perform based on the reference background distribution and a signal distribution.  \n",
    "The injections stops when the required sensitivity is reached (based on global significance).  \n",
    "Currently, signal injection is only available in 1D."
   ]
  },
  {
   "cell_type": "code",
   "execution_count": null,
   "metadata": {},
   "outputs": [],
   "source": [
    "# Generate some signal\n",
    "sig = np.random.normal(loc=20, scale=3, size=10_000)\n",
    "sig_hist, _  = np.histogram(sig, bins=bins)\n",
    "\n",
    "# Plot the signal distribution\n",
    "F = plt.figure(figsize=(12,8))\n",
    "plt.title('Signal distribution', size='xx-large')\n",
    "plt.hist(sig, bins=bins, histtype='step', lw=2, label='signal')\n",
    "plt.legend(fontsize='x-large')\n",
    "plt.xticks(fontsize='x-large')\n",
    "plt.yticks(fontsize='x-large')\n",
    "plt.show()"
   ]
  },
  {
   "cell_type": "code",
   "execution_count": null,
   "metadata": {
    "scrolled": false
   },
   "outputs": [],
   "source": [
    "# Set the expected number of signal event\n",
    "# This will be used to normalize the signal and compute the signal strength\n",
    "# Here, we expect to have 500 signal events for a signal strength of 1.0\n",
    "bh1.signal_exp = 1000\n",
    "\n",
    "# Set the injection parameters\n",
    "bh1.str_min = -1\n",
    "bh1.str_scale = 'log'\n",
    "bh1.sigma_limit = 3 # Injection stops when we reach 3 sigma global\n",
    "\n",
    "# Call the injection method\n",
    "bh1.signal_inject(sig_hist, bkg_hist, is_hist=True)\n",
    "\n",
    "# Display results\n",
    "bh1.plot_inject()"
   ]
  },
  {
   "cell_type": "markdown",
   "metadata": {},
   "source": [
    "## 2D scan\n",
    "\n",
    "This is the extension of the BumpHunter algorithm to 2D distributions.  \n",
    "Works the same way as in 1D."
   ]
  },
  {
   "cell_type": "code",
   "execution_count": null,
   "metadata": {},
   "outputs": [],
   "source": [
    "# Generate some background and data\n",
    "np.random.seed(42)\n",
    "bkg = np.random.exponential(scale=8.0, size=(500_000,2))\n",
    "data = np.random.exponential(scale=8.0, size=(500_000,2))\n",
    "data = np.append(\n",
    "    data,\n",
    "    np.random.normal(loc=20, scale=3, size=(1100,2)),\n",
    "    axis=0\n",
    ")\n",
    "rng = [[0,40], [0,40]]\n",
    "\n",
    "# Make histograms\n",
    "bkg_hist, binx, biny = np.histogram2d(bkg[:,0],bkg[:,1], bins=20, range=rng)\n",
    "data_hist, _, _ = np.histogram2d(data[:,0], data[:,1], bins=[binx,biny])\n",
    "\n",
    "# Plot the data distribution\n",
    "F = plt.figure(figsize=(12,10))\n",
    "plt.title('Data 2D distribution', size='xx-large')\n",
    "plt.hist2d(data[:,0], data[:,1], bins=[binx,biny], norm=mcl.LogNorm())\n",
    "plt.colorbar()\n",
    "plt.xticks(fontsize='x-large')\n",
    "plt.yticks(fontsize='x-large')\n",
    "plt.show()"
   ]
  },
  {
   "cell_type": "code",
   "execution_count": null,
   "metadata": {
    "scrolled": false
   },
   "outputs": [],
   "source": [
    "# Create a BumpHunter2D instance\n",
    "bh2 = BH.BumpHunter2D(\n",
    "    width_min=[2,2],\n",
    "    width_max=[3,3],\n",
    "    width_step=[1,1],\n",
    "    scan_step=[1,1],\n",
    "    bins=[binx,biny],\n",
    "    rang=rng,\n",
    "    npe=6_000,\n",
    "    nworker=1,\n",
    "    seed=666\n",
    ")\n",
    "\n",
    "# Call the scan method\n",
    "bh2.bump_scan(data_hist, bkg_hist, is_hist=True)\n",
    "\n",
    "# Display results\n",
    "# NOTE : There is no tomography plot in 2D\n",
    "print('##.print_bump_info() call##')\n",
    "bh2.print_bump_info()\n",
    "print('##.print_bump_true() call##')\n",
    "bh2.print_bump_true(data_hist, bkg_hist, is_hist=True)\n",
    "\n",
    "bh2.plot_bump(data_hist, bkg_hist, is_hist=True)\n",
    "bh2.plot_stat(show_Pval=True)"
   ]
  },
  {
   "cell_type": "markdown",
   "metadata": {},
   "source": [
    "## Side-band normalization\n",
    "\n",
    "This option allows to correct the number of background events in the calculation of the local p-value.  \n",
    "The normalization scale is computed as the data/background ratio outside of the bump window.  \n",
    "![rescale](img/rescale.png) \n",
    "This normalization is done automatically durring the scan.  \n",
    "This metohd can also penalize the p-value when there is a discrepency between data and background ouside of the bump window."
   ]
  },
  {
   "cell_type": "code",
   "execution_count": null,
   "metadata": {
    "scrolled": false
   },
   "outputs": [],
   "source": [
    "# Generating some background and data\n",
    "# Generate some background and data\n",
    "np.random.seed(44)\n",
    "bkg = np.random.exponential(scale=8.0, size=800_000)\n",
    "data = np.random.exponential(scale=8.0, size=500_000)\n",
    "data = np.append(\n",
    "    data,\n",
    "    np.random.normal(loc=20, scale=3, size=1200)\n",
    ")\n",
    "rng = [0,70]\n",
    "\n",
    "# Make histograms\n",
    "bkg_hist, bins = np.histogram(bkg, bins=50, range=rng)\n",
    "data_hist, _ = np.histogram(data, bins=bins)\n",
    "bkg_hist = np.array(bkg_hist, dtype=float)\n",
    "\n",
    "\n",
    "# Plot the distributions\n",
    "F = plt.figure(figsize=(12,8))\n",
    "plt.title('Example distributions', size='xx-large')\n",
    "plt.hist(bkg, bins=bins, histtype='step', lw=2, label='bkg')\n",
    "plt.hist(data, bins=bins, histtype='step', lw=2, label='data')\n",
    "plt.legend(fontsize='x-large')\n",
    "plt.xticks(fontsize='x-large')\n",
    "plt.yticks(fontsize='x-large')\n",
    "plt.yscale('log')\n",
    "plt.show()"
   ]
  },
  {
   "cell_type": "code",
   "execution_count": null,
   "metadata": {
    "scrolled": false
   },
   "outputs": [],
   "source": [
    "# Create a BumpHunter1D instance\n",
    "bh1 = BH.BumpHunter1D(\n",
    "    width_min=2,\n",
    "    width_max=6,\n",
    "    width_step=1,\n",
    "    scan_step=1,\n",
    "    bins=bins,\n",
    "    rang=rng,\n",
    "    npe=10_000,\n",
    "    nworker=1,\n",
    "    use_sideband=True,\n",
    "    seed=666\n",
    ")\n",
    "\n",
    "# Call the scan method\n",
    "# Here we give the data as non-histogramed distribution\n",
    "bh1.bump_scan(data_hist, bkg_hist, is_hist=True)\n",
    "\n",
    "# Display results\n",
    "print('##.print_bump_info() call##')\n",
    "bh1.print_bump_info()\n",
    "print('##.print_bump_true() call##')\n",
    "bh1.print_bump_true(data_hist, bkg_hist, is_hist=True)\n",
    "\n",
    "bh1.plot_bump(data_hist, bkg_hist, is_hist=True)\n",
    "bh1.plot_tomography(data_hist, is_hist=True)\n",
    "bh1.plot_stat(show_Pval=True)"
   ]
  },
  {
   "cell_type": "markdown",
   "metadata": {},
   "source": [
    "## Multi-channel combination (under development)\n",
    "\n",
    "This option allows to combine multiple channels in order to obtain a combined global p-value and significance.  \n",
    "There are two combination method :\n",
    "\n",
    "* **multiply**  \n",
    "    Applyable only if all channels have the same binning.  \n",
    "    For each position and width, the combined local p-value is defined as the product of the local p-value per channel.  \n",
    "    The bump window is then defined as usual.\n",
    "\n",
    "* **exclude**  \n",
    "    Applyable even if all channels have different binning.  \n",
    "    The combined bump window is defined as the intersection of the bump windows of each channel.  \n",
    "    If there is no intersection, then the local p-value is set to 1.  \n",
    "    Otherwise, the combined local p-value is the product of the local p-value per channel.\n",
    "\n",
    "### Planned syntax\n",
    "\n",
    "To define multiple channels with different bining, we pass a *list of bining* to the `bins` option.\n",
    "\n",
    "```python\n",
    "bh = BH.BumpHunter1D()\n",
    "bh.bins=[40,50] # 40 bins for ch0 and 50 bins for ch1\n",
    "```\n",
    "\n",
    "To call a scan method in one of the two multi-channel modes, we pass a list of data and background distributions in argument.  \n",
    "The choice of the combination method is done with the `comb` argument.\n",
    "```python\n",
    "bh.bump_scan(data, bkg, comb='exclude')\n",
    "```"
   ]
  },
  {
   "cell_type": "markdown",
   "metadata": {},
   "source": [
    "## Plan and future development\n",
    "\n",
    "### For the next release\n",
    "\n",
    "* Adding multi-channel combination\n",
    "\n",
    "### Major additions planned\n",
    "\n",
    "* API refactoring, with a DataHandler class that manage the histograming part separatly\n",
    "\n",
    "* Add possibility to treat systematic uncertainties\n",
    "\n",
    "* Other features that might be interesting (***your* ideas are welcome!**)"
   ]
  },
  {
   "cell_type": "code",
   "execution_count": null,
   "metadata": {},
   "outputs": [],
   "source": []
  }
 ],
 "metadata": {
  "kernelspec": {
   "display_name": "Python 3",
   "language": "python",
   "name": "python3"
  },
  "language_info": {
   "codemirror_mode": {
    "name": "ipython",
    "version": 3
   },
   "file_extension": ".py",
   "mimetype": "text/x-python",
   "name": "python",
   "nbconvert_exporter": "python",
   "pygments_lexer": "ipython3",
   "version": "3.6.9"
  }
 },
 "nbformat": 4,
 "nbformat_minor": 2
}
